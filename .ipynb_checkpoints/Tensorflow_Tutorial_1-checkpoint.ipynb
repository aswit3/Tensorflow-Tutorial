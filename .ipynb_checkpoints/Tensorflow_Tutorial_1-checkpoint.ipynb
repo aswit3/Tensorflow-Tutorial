{
 "cells": [
  {
   "cell_type": "markdown",
   "metadata": {
    "colab_type": "text",
    "id": "view-in-github"
   },
   "source": [
    "<a href=\"https://colab.research.google.com/github/aswit3/Tensorflow-Tutorial/blob/master/Tensorflow_Tutorial_1_.ipynb\" target=\"_parent\"><img src=\"https://colab.research.google.com/assets/colab-badge.svg\" alt=\"Open In Colab\"/></a>"
   ]
  },
  {
   "cell_type": "markdown",
   "metadata": {
    "colab_type": "text",
    "id": "F5LyzHR5dxQ_"
   },
   "source": [
    "![alt text](https://www.tensorflow.org/images/tf_logo_social.png)"
   ]
  },
  {
   "cell_type": "markdown",
   "metadata": {
    "colab_type": "text",
    "id": "ZBfFWJMYevgn"
   },
   "source": [
    "# Tensorflow\n",
    "**TensorFlow is a powerful open source software library for numerical computation, particularly well suited and fine-tuned for large-scale Machine Learning**\n",
    "\n"
   ]
  },
  {
   "cell_type": "code",
   "execution_count": 1,
   "metadata": {
    "colab": {
     "base_uri": "https://localhost:8080/",
     "height": 342
    },
    "colab_type": "code",
    "id": "go30GM0vajBY",
    "outputId": "b1fea826-c046-40ae-8851-a7d57d3fcaaf"
   },
   "outputs": [],
   "source": [
    "# !pip3 install --upgrade tensorflow"
   ]
  },
  {
   "cell_type": "markdown",
   "metadata": {
    "colab_type": "text",
    "id": "mNh48Kgrl0BJ"
   },
   "source": [
    "# **install TensorFlow**"
   ]
  },
  {
   "cell_type": "code",
   "execution_count": 2,
   "metadata": {
    "colab": {
     "base_uri": "https://localhost:8080/",
     "height": 342
    },
    "colab_type": "code",
    "id": "aMQm7OJpkUkK",
    "outputId": "32d3f11d-0d45-4ff6-d0c6-3e5052a60508"
   },
   "outputs": [],
   "source": [
    "# !pip3 install tensorflow"
   ]
  },
  {
   "cell_type": "markdown",
   "metadata": {
    "colab_type": "text",
    "id": "a7IiS2Ycl4sM"
   },
   "source": [
    "# For GPU support\n",
    "**you need to install *tensorflow-gpu* instead of tensorflow**"
   ]
  },
  {
   "cell_type": "code",
   "execution_count": 3,
   "metadata": {
    "colab": {
     "base_uri": "https://localhost:8080/",
     "height": 427
    },
    "colab_type": "code",
    "id": "tYSRvi9akb45",
    "outputId": "c078062d-9d52-41c7-f9ef-ce99203611a8"
   },
   "outputs": [],
   "source": [
    "# !pip3 install tensorflow-gpu"
   ]
  },
  {
   "cell_type": "markdown",
   "metadata": {
    "colab_type": "text",
    "id": "6yMbJnx7mBAz"
   },
   "source": [
    "# To test your installation\n",
    "**type the following command. It should output the version of TensorFlow you\n",
    "installed.**"
   ]
  },
  {
   "cell_type": "code",
   "execution_count": 4,
   "metadata": {
    "colab": {
     "base_uri": "https://localhost:8080/",
     "height": 33
    },
    "colab_type": "code",
    "id": "Nl7w5GqikgOa",
    "outputId": "686716fc-c1b1-4921-b1a4-77bf1e061d02"
   },
   "outputs": [
    {
     "name": "stdout",
     "output_type": "stream",
     "text": [
      "1.14.0\r\n"
     ]
    }
   ],
   "source": [
    "!python3 -c 'import tensorflow; print(tensorflow.__version__)'"
   ]
  },
  {
   "cell_type": "markdown",
   "metadata": {
    "colab_type": "text",
    "id": "heVfF_7lmtWV"
   },
   "source": [
    "# ***Creating Your First Graph and Running It in a Session***"
   ]
  },
  {
   "cell_type": "markdown",
   "metadata": {
    "colab_type": "text",
    "id": "G6AOpR1XoQen"
   },
   "source": [
    "![alt text](https://www.oreilly.com/library/view/hands-on-machine-learning/9781491962282/assets/mlst_0901.png)"
   ]
  },
  {
   "cell_type": "code",
   "execution_count": 5,
   "metadata": {
    "colab": {},
    "colab_type": "code",
    "id": "weuySUuNmfBg"
   },
   "outputs": [],
   "source": [
    "import tensorflow as tf\n",
    "\n",
    "x = tf.Variable(3, name = \"X\")\n",
    "y = tf.Variable(4, name = \"Y\")\n",
    "\n",
    "f = x*x*y + y + 2"
   ]
  },
  {
   "cell_type": "markdown",
   "metadata": {
    "colab_type": "text",
    "id": "CSkWDaZZdPyD"
   },
   "source": [
    "1. It is just creates a computational graph. In fact, even the variables are not initialized.\n",
    "\n",
    "2. To evaluate this graph, you need to open a Tensorflow session and useit to initialize the variables and evaluate f\n",
    "\n"
   ]
  },
  {
   "cell_type": "code",
   "execution_count": 4,
   "metadata": {
    "colab": {
     "base_uri": "https://localhost:8080/",
     "height": 33
    },
    "colab_type": "code",
    "id": "FFpWbF8_pF2A",
    "outputId": "27c2cf6a-4280-46a8-f4fb-a74d707667b1"
   },
   "outputs": [
    {
     "data": {
      "text/plain": [
       "<tf.Tensor 'add_3:0' shape=() dtype=int32>"
      ]
     },
     "execution_count": 4,
     "metadata": {
      "tags": []
     },
     "output_type": "execute_result"
    }
   ],
   "source": [
    "f"
   ]
  },
  {
   "cell_type": "code",
   "execution_count": 7,
   "metadata": {
    "colab": {
     "base_uri": "https://localhost:8080/",
     "height": 33
    },
    "colab_type": "code",
    "id": "6pSUVb3ZeO41",
    "outputId": "884988b4-8d11-4ae7-d3c6-1b67d35bf438"
   },
   "outputs": [
    {
     "name": "stdout",
     "output_type": "stream",
     "text": [
      "42\n"
     ]
    }
   ],
   "source": [
    "\n",
    "# creates a session, initializes the variables, and evaluates\n",
    "# closes the session\n",
    "sess = tf.Session()\n",
    "sess.run(x.initializer)\n",
    "sess.run(y.initializer)\n",
    "result = sess.run(f)\n",
    "print(result)"
   ]
  },
  {
   "cell_type": "code",
   "execution_count": 0,
   "metadata": {
    "colab": {},
    "colab_type": "code",
    "id": "EAEsrmWYeu1D"
   },
   "outputs": [],
   "source": [
    "sess.close()"
   ]
  },
  {
   "cell_type": "code",
   "execution_count": 0,
   "metadata": {
    "colab": {},
    "colab_type": "code",
    "id": "U6qewBgbezVg"
   },
   "outputs": [],
   "source": [
    "#Having to repeat sess.run() all the time is a bit cumbersome, \n",
    "#but fortunately there is a better way:\n",
    "\n",
    "with tf.Session() as sess:\n",
    "  x.initializer.run()\n",
    "  y.initializer.run()\n",
    "  result = f.eval()"
   ]
  },
  {
   "cell_type": "code",
   "execution_count": 11,
   "metadata": {
    "colab": {
     "base_uri": "https://localhost:8080/",
     "height": 33
    },
    "colab_type": "code",
    "id": "WorZ2S1ugPzY",
    "outputId": "efc4378b-9e33-4206-b76f-500848412c7e"
   },
   "outputs": [
    {
     "data": {
      "text/plain": [
       "42"
      ]
     },
     "execution_count": 11,
     "metadata": {
      "tags": []
     },
     "output_type": "execute_result"
    }
   ],
   "source": [
    "result"
   ]
  },
  {
   "cell_type": "markdown",
   "metadata": {
    "colab_type": "text",
    "id": "tq4aqRjNg39o"
   },
   "source": [
    "1. Calling x.initializer.run() is\n",
    "equivalent to calling tf.get_default_session().run(x.initializer), and similarly f.eval() is\n",
    "equivalent to calling tf.get_default_session().run(f). \n",
    "2. The session is automatically closed at the end of the block.\n",
    "3. Instead of manually running the initializer for every single variable, you can use the\n",
    "*global_variables_initializer()* function.\n",
    "\n",
    "4. Note that it does not actually perform the initialization\n",
    "immediately, but rather creates ***a node in the graph that will initialize all variables when it is run***"
   ]
  },
  {
   "cell_type": "code",
   "execution_count": 0,
   "metadata": {
    "colab": {},
    "colab_type": "code",
    "id": "uiYW80rUg11s"
   },
   "outputs": [],
   "source": [
    "init = tf.global_variables_initializer() #prepare an init mode"
   ]
  },
  {
   "cell_type": "code",
   "execution_count": 0,
   "metadata": {
    "colab": {},
    "colab_type": "code",
    "id": "gEY5eQZMgVjC"
   },
   "outputs": [],
   "source": [
    "with tf.Session() as sess:\n",
    "  init.run() #actually initialize all the variables\n",
    "  #sess.run(init)\n",
    "  result = f.eval()"
   ]
  },
  {
   "cell_type": "code",
   "execution_count": 14,
   "metadata": {
    "colab": {
     "base_uri": "https://localhost:8080/",
     "height": 33
    },
    "colab_type": "code",
    "id": "YnNEBZ20inPa",
    "outputId": "2a8628aa-7160-4a90-c9ef-8528bdeaa3a5"
   },
   "outputs": [
    {
     "data": {
      "text/plain": [
       "42"
      ]
     },
     "execution_count": 14,
     "metadata": {
      "tags": []
     },
     "output_type": "execute_result"
    }
   ],
   "source": [
    "result"
   ]
  },
  {
   "cell_type": "markdown",
   "metadata": {
    "colab_type": "text",
    "id": "nsVTprrBjX58"
   },
   "source": [
    "1. **Inside Jupyter or within a Python shell** you may prefer to **create an InteractiveSession**. \n",
    "2. The only\n",
    "difference from a regular Session is that when an InteractiveSession is created it **automatically sets\n",
    "itself as the default session** , so you don’t need a with block"
   ]
  },
  {
   "cell_type": "code",
   "execution_count": 0,
   "metadata": {
    "colab": {},
    "colab_type": "code",
    "id": "AfZykE4CioZf"
   },
   "outputs": [],
   "source": [
    "init = tf.global_variables_initializer()"
   ]
  },
  {
   "cell_type": "code",
   "execution_count": 17,
   "metadata": {
    "colab": {
     "base_uri": "https://localhost:8080/",
     "height": 86
    },
    "colab_type": "code",
    "id": "4cEiiyFakHh8",
    "outputId": "8aa1b1c7-cce8-428b-96d9-d4dcbd183d1a"
   },
   "outputs": [
    {
     "name": "stdout",
     "output_type": "stream",
     "text": [
      "42\n"
     ]
    },
    {
     "name": "stderr",
     "output_type": "stream",
     "text": [
      "/usr/local/lib/python3.6/dist-packages/tensorflow/python/client/session.py:1735: UserWarning: An interactive session is already active. This can cause out-of-memory errors in some cases. You must explicitly call `InteractiveSession.close()` to release resources held by the other session(s).\n",
      "  warnings.warn('An interactive session is already active. This can '\n"
     ]
    }
   ],
   "source": [
    "sess = tf.InteractiveSession()\n",
    "init.run()\n",
    "result = f.eval()\n",
    "print(result)"
   ]
  },
  {
   "cell_type": "code",
   "execution_count": 18,
   "metadata": {
    "colab": {
     "base_uri": "https://localhost:8080/",
     "height": 33
    },
    "colab_type": "code",
    "id": "ENo3TKzokWsY",
    "outputId": "2a65bab7-1d33-40c3-ced2-dd8b1bd60de6"
   },
   "outputs": [
    {
     "data": {
      "text/plain": [
       "42"
      ]
     },
     "execution_count": 18,
     "metadata": {
      "tags": []
     },
     "output_type": "execute_result"
    }
   ],
   "source": [
    "f.eval()"
   ]
  },
  {
   "cell_type": "markdown",
   "metadata": {
    "colab_type": "text",
    "id": "Z8wbxHdvkvSQ"
   },
   "source": [
    "Tensorflow Program is typically split into two parts\n",
    "\n",
    "1. the first part builds a computation graph. this is called the **construction phase**. build computational graph.\n",
    "2. The second part runs it. this is the **execution phase**.. trainig process, model architecture."
   ]
  },
  {
   "cell_type": "markdown",
   "metadata": {
    "colab_type": "text",
    "id": "LsHsbqHImB7s"
   },
   "source": [
    "# Managing Graphs"
   ]
  },
  {
   "cell_type": "markdown",
   "metadata": {
    "colab_type": "text",
    "id": "u3WcbQCQmOL5"
   },
   "source": [
    "Any node you create is automatically added to the default graph"
   ]
  },
  {
   "cell_type": "code",
   "execution_count": 0,
   "metadata": {
    "colab": {},
    "colab_type": "code",
    "id": "8vyqvqjjkqCH"
   },
   "outputs": [],
   "source": [
    "  a = tf.Variable(3)"
   ]
  },
  {
   "cell_type": "code",
   "execution_count": 20,
   "metadata": {
    "colab": {
     "base_uri": "https://localhost:8080/",
     "height": 33
    },
    "colab_type": "code",
    "id": "7ksJq7Q1kfNo",
    "outputId": "e86a30d0-cab7-4f6d-bd13-96621764a412"
   },
   "outputs": [
    {
     "data": {
      "text/plain": [
       "<tf.Variable 'Variable:0' shape=() dtype=int32_ref>"
      ]
     },
     "execution_count": 20,
     "metadata": {
      "tags": []
     },
     "output_type": "execute_result"
    }
   ],
   "source": [
    "a"
   ]
  },
  {
   "cell_type": "code",
   "execution_count": 21,
   "metadata": {
    "colab": {
     "base_uri": "https://localhost:8080/",
     "height": 33
    },
    "colab_type": "code",
    "id": "ScctKH07mgpA",
    "outputId": "eb3e7af5-5b96-4fd9-b532-5197cc951e5e"
   },
   "outputs": [
    {
     "data": {
      "text/plain": [
       "True"
      ]
     },
     "execution_count": 21,
     "metadata": {
      "tags": []
     },
     "output_type": "execute_result"
    }
   ],
   "source": [
    "a.graph is tf.get_default_graph()"
   ]
  },
  {
   "cell_type": "markdown",
   "metadata": {
    "colab_type": "text",
    "id": "udyJUn2nm8-h"
   },
   "source": [
    "In most cases this is fine, but \n",
    "1. sometimes you may want to **manage multiple independent graphs**.\n",
    "2. You can do\n",
    "this by creating a new Graph and temporarily making it the default graph inside a with block"
   ]
  },
  {
   "cell_type": "code",
   "execution_count": 0,
   "metadata": {
    "colab": {},
    "colab_type": "code",
    "id": "_9SxvpSvpMMZ"
   },
   "outputs": [],
   "source": [
    "graph = tf.Graph()\n",
    "\n",
    "with graph.as_default():\n",
    "  a = tf.Variable(3)  "
   ]
  },
  {
   "cell_type": "code",
   "execution_count": 28,
   "metadata": {
    "colab": {
     "base_uri": "https://localhost:8080/",
     "height": 33
    },
    "colab_type": "code",
    "id": "mfR6GTwrmwbn",
    "outputId": "02c2e879-3e51-4f12-c75a-63e5d4688e9f"
   },
   "outputs": [
    {
     "data": {
      "text/plain": [
       "True"
      ]
     },
     "execution_count": 28,
     "metadata": {
      "tags": []
     },
     "output_type": "execute_result"
    }
   ],
   "source": [
    "a.graph is graph"
   ]
  },
  {
   "cell_type": "code",
   "execution_count": 29,
   "metadata": {
    "colab": {
     "base_uri": "https://localhost:8080/",
     "height": 33
    },
    "colab_type": "code",
    "id": "sD3rm1VYpWa8",
    "outputId": "e1223877-ff96-4aa3-da58-24e792a262e9"
   },
   "outputs": [
    {
     "data": {
      "text/plain": [
       "False"
      ]
     },
     "execution_count": 29,
     "metadata": {
      "tags": []
     },
     "output_type": "execute_result"
    }
   ],
   "source": [
    "a.graph is tf.get_default_graph()"
   ]
  },
  {
   "cell_type": "markdown",
   "metadata": {
    "colab_type": "text",
    "id": "Mr6LI4Fuq2Cr"
   },
   "source": [
    "1. In Jupyter (or in a Python shell), it is common to run the **same commands more than once** while you are experimenting.\n",
    "2. As a result, you may end up with a default graph **containing many duplicate nodes**. \n",
    "3. One solution is to **restart the Jupyter kernel** (or the\n",
    "Python shell), but \n",
    "4. a more convenient solution is to just reset the default graph by running **tf.reset_default_graph()**."
   ]
  },
  {
   "cell_type": "markdown",
   "metadata": {
    "colab_type": "text",
    "id": "-SglO7Qfrs2N"
   },
   "source": [
    "# Lifecycle of a Node Value"
   ]
  },
  {
   "cell_type": "markdown",
   "metadata": {
    "colab_type": "text",
    "id": "Hhj4lHTRsNIq"
   },
   "source": [
    "in Tensorflow \n",
    "1. TensorFlow automatically determines the set of nodes that it depends on and it\n",
    "evaluates these nodes \n",
    "2. A\n",
    "variable starts its life when its initializer is run, and it ends when the session is closed.\n"
   ]
  },
  {
   "cell_type": "code",
   "execution_count": 30,
   "metadata": {
    "colab": {
     "base_uri": "https://localhost:8080/",
     "height": 50
    },
    "colab_type": "code",
    "id": "uEVCMxAoqQWc",
    "outputId": "68cb9be2-28ac-49d1-e161-8a954684cecf"
   },
   "outputs": [
    {
     "name": "stdout",
     "output_type": "stream",
     "text": [
      "10\n",
      "15\n"
     ]
    }
   ],
   "source": [
    "w = tf.constant(3)\n",
    "x = w + 2\n",
    "y = x + 5\n",
    "z = x * 3\n",
    "\n",
    "with tf.Session() as sess:\n",
    "    print(y.eval())  # 10\n",
    "    print(z.eval())  # 15"
   ]
  },
  {
   "cell_type": "markdown",
   "metadata": {
    "colab_type": "text",
    "id": "JSQD2phQsxgA"
   },
   "source": [
    "if you want to evaluate y and z efficiently, without evaluating w and x twice as in the previous code, you\n",
    "must ask TensorFlow to evaluate both y and z in just one graph run"
   ]
  },
  {
   "cell_type": "code",
   "execution_count": 0,
   "metadata": {
    "colab": {},
    "colab_type": "code",
    "id": "c50h_eeTr7MP"
   },
   "outputs": [],
   "source": [
    "with tf.Session() as sess:\n",
    "  y, z = sess.run([y, z])"
   ]
  },
  {
   "cell_type": "code",
   "execution_count": 38,
   "metadata": {
    "colab": {
     "base_uri": "https://localhost:8080/",
     "height": 33
    },
    "colab_type": "code",
    "id": "Jo31mUgZtoax",
    "outputId": "158136c7-d972-46ac-ca58-76daa0b735de"
   },
   "outputs": [
    {
     "data": {
      "text/plain": [
       "(10, 15)"
      ]
     },
     "execution_count": 38,
     "metadata": {
      "tags": []
     },
     "output_type": "execute_result"
    }
   ],
   "source": [
    "y, z"
   ]
  },
  {
   "cell_type": "markdown",
   "metadata": {
    "colab_type": "text",
    "id": "HhWwPGLy65sW"
   },
   "source": [
    "1. In **single-process** TensorFlow, multiple sessions **do not share any state**, even if they reuse the same graph\n",
    "2. In distributed TensorFlow, **variable state is stored on the servers**, not in\n",
    "the sessions, so **multiple sessions can share the same variables**."
   ]
  },
  {
   "cell_type": "markdown",
   "metadata": {
    "colab_type": "text",
    "id": "sruF_Jty7obj"
   },
   "source": [
    "# Linear Regression\n",
    "Using the Normal Equation"
   ]
  },
  {
   "cell_type": "code",
   "execution_count": 41,
   "metadata": {
    "colab": {
     "base_uri": "https://localhost:8080/",
     "height": 82
    },
    "colab_type": "code",
    "id": "8-17bqtr8A2e",
    "outputId": "292b86e5-18d9-4eef-c7ee-8928c8bd5450"
   },
   "outputs": [
    {
     "name": "stdout",
     "output_type": "stream",
     "text": [
      "Requirement already satisfied: scikit-learn in /usr/local/lib/python3.6/dist-packages (0.21.3)\n",
      "Requirement already satisfied: numpy>=1.11.0 in /usr/local/lib/python3.6/dist-packages (from scikit-learn) (1.16.5)\n",
      "Requirement already satisfied: scipy>=0.17.0 in /usr/local/lib/python3.6/dist-packages (from scikit-learn) (1.3.1)\n",
      "Requirement already satisfied: joblib>=0.11 in /usr/local/lib/python3.6/dist-packages (from scikit-learn) (0.13.2)\n"
     ]
    }
   ],
   "source": [
    "!pip install scikit-learn"
   ]
  },
  {
   "cell_type": "code",
   "execution_count": 51,
   "metadata": {
    "colab": {
     "base_uri": "https://localhost:8080/",
     "height": 163
    },
    "colab_type": "code",
    "id": "XOtN2bRA8NP5",
    "outputId": "aad18d9c-9657-492e-a3cd-ca8ee76dcb43"
   },
   "outputs": [
    {
     "name": "stdout",
     "output_type": "stream",
     "text": [
      "[1. 1. 1. 1.]\n",
      "[[0. 0. 0. 0. 0. 0. 0. 0. 0. 0.]\n",
      " [0. 0. 0. 0. 0. 0. 0. 0. 0. 0.]\n",
      " [0. 0. 0. 0. 0. 0. 0. 0. 0. 0.]\n",
      " [0. 0. 0. 0. 0. 0. 0. 0. 0. 0.]]\n"
     ]
    },
    {
     "data": {
      "text/plain": [
       "array([[1., 0., 0., 0., 0., 0., 0., 0., 0., 0., 0.],\n",
       "       [1., 0., 0., 0., 0., 0., 0., 0., 0., 0., 0.],\n",
       "       [1., 0., 0., 0., 0., 0., 0., 0., 0., 0., 0.],\n",
       "       [1., 0., 0., 0., 0., 0., 0., 0., 0., 0., 0.]])"
      ]
     },
     "execution_count": 51,
     "metadata": {
      "tags": []
     },
     "output_type": "execute_result"
    }
   ],
   "source": [
    "from numpy import c_\n",
    "import numpy\n",
    "a = numpy.ones(4)\n",
    "print(a)\n",
    "b = numpy.zeros((4,10))  \n",
    "print(b)  \n",
    "c_[a,b]"
   ]
  },
  {
   "cell_type": "code",
   "execution_count": 19,
   "metadata": {
    "colab": {
     "base_uri": "https://localhost:8080/",
     "height": 33
    },
    "colab_type": "code",
    "id": "3EvAKPErqW2u",
    "outputId": "0347aa5a-5a07-40a3-a0a1-0a45e3899c1c"
   },
   "outputs": [
    {
     "name": "stdout",
     "output_type": "stream",
     "text": [
      "29 2900\n"
     ]
    }
   ],
   "source": [
    "import tensorflow as tf\n",
    "N = tf.Variable(29)\n",
    "P = tf.Variable(100 * N)\n",
    "\n",
    "# NP = N * P\n",
    "\n",
    "with tf.Session() as sess:\n",
    "  sess.run(N.initializer)\n",
    "  sess.run(P.initializer)\n",
    "  N = N.eval()\n",
    "  P = P.eval()\n",
    "  print(N, P)"
   ]
  },
  {
   "cell_type": "code",
   "execution_count": 16,
   "metadata": {
    "colab": {
     "base_uri": "https://localhost:8080/",
     "height": 33
    },
    "colab_type": "code",
    "id": "iyBIUyox-SAt",
    "outputId": "7249e8dc-aa18-4107-f1b1-d724243d0480"
   },
   "outputs": [
    {
     "name": "stdout",
     "output_type": "stream",
     "text": [
      "29 2900\n"
     ]
    }
   ],
   "source": [
    "import tensorflow as tf\n",
    "N = tf.Variable(29)\n",
    "P = tf.Variable(100)\n",
    "\n",
    "NP = N * P\n",
    "init = tf.global_variables_initializer()\n",
    "\n",
    "with tf.Session() as sess:\n",
    "  sess.run(init)\n",
    "  N = N.eval()\n",
    "  NP = sess.run(NP)\n",
    "\n",
    "  print(n, NP)"
   ]
  },
  {
   "cell_type": "code",
   "execution_count": 30,
   "metadata": {
    "colab": {
     "base_uri": "https://localhost:8080/",
     "height": 33
    },
    "colab_type": "code",
    "id": "1ChKlz_msm3Y",
    "outputId": "a8e7d8cf-509c-45d0-d488-ed379e996640"
   },
   "outputs": [
    {
     "name": "stdout",
     "output_type": "stream",
     "text": [
      "[3, 6, 9] [2. 4. 6.] [1. 2. 3.] [ 7. 26. 57.]\n"
     ]
    }
   ],
   "source": [
    "import tensorflow as tf\n",
    "X = tf.placeholder(tf.float32, shape=[3], name = \"X\")  \n",
    "Y = tf.Variable([2.0, 4.0, 6.0], tf.float32)\n",
    "Z = tf.constant([1, 2, 3], tf.float32)\n",
    "\n",
    "res = X * Y + Z\n",
    "#sess = tf.InteractiveSession()\n",
    "\n",
    "init = tf.global_variables_initializer()\n",
    "with tf.Session() as sess:\n",
    "  X_val = [3, 6, 9]\n",
    "  sess.run(init)\n",
    "  result = sess.run(res, feed_dict={X:X_val})\n",
    "  Y_val = Y.eval()\n",
    "  Z_val = Z.eval()\n",
    "\n",
    "  print(X_val, Y_val, Z_val, result)\n",
    "\n",
    "\n"
   ]
  },
  {
   "cell_type": "code",
   "execution_count": 48,
   "metadata": {
    "colab": {
     "base_uri": "https://localhost:8080/",
     "height": 50
    },
    "colab_type": "code",
    "id": "IPFWcbGfuNj6",
    "outputId": "bd82d661-613b-4a75-c649-725a6d5cc957"
   },
   "outputs": [
    {
     "name": "stdout",
     "output_type": "stream",
     "text": [
      "20640 8\n",
      "(20640, 9)\n"
     ]
    }
   ],
   "source": [
    "import numpy as np\n",
    "from sklearn.datasets import fetch_california_housing\n",
    "import tensorflow as tf\n",
    "\n",
    "housing = fetch_california_housing()\n",
    "m, n = housing.data.shape\n",
    "\n",
    "print(m, n)\n",
    "housing_data_plus_bias = np.c_[np.ones((m, 1)), housing.data]\n",
    "print(housing_data_plus_bias.shape)\n",
    "X = tf.constant(housing_data_plus_bias, dtype=tf.float32, name=\"X\")\n",
    "y = tf.constant(housing.target.reshape(-1, 1), dtype=tf.float32, name=\"y\")\n",
    "XT = tf.transpose(X)\n",
    "theta = tf.matmul(tf.matmul(tf.matrix_inverse(tf.matmul(XT, X)), XT), y)\n"
   ]
  },
  {
   "cell_type": "code",
   "execution_count": 0,
   "metadata": {
    "colab": {},
    "colab_type": "code",
    "id": "1K-IS__4xGKu"
   },
   "outputs": [],
   "source": []
  }
 ],
 "metadata": {
  "colab": {
   "collapsed_sections": [],
   "include_colab_link": true,
   "name": "Tensorflow-Tutorial-1-.ipynb",
   "provenance": []
  },
  "kernelspec": {
   "display_name": "Python 3",
   "language": "python",
   "name": "python3"
  },
  "language_info": {
   "codemirror_mode": {
    "name": "ipython",
    "version": 3
   },
   "file_extension": ".py",
   "mimetype": "text/x-python",
   "name": "python",
   "nbconvert_exporter": "python",
   "pygments_lexer": "ipython3",
   "version": "3.7.3"
  }
 },
 "nbformat": 4,
 "nbformat_minor": 1
}
